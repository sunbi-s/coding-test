{
 "cells": [
  {
   "cell_type": "code",
   "execution_count": null,
   "id": "a9ef386c-e168-40aa-b08a-ed5029262893",
   "metadata": {},
   "outputs": [],
   "source": [
    "import sys\n",
    "col ,row = map(int, sys.stdin.readline().split())\n",
    "\n",
    "def div_counter(col, row):\n",
    "    # 종료 조건 (1,1)로 최소단위가 되면 더이상 나누지 않고 종료\n",
    "    # 나누지 않았음으로 return 값은 0\n",
    "    if col == 1 && row == 1:\n",
    "        return 0\n",
    "    \n",
    "    # 세로 가로 중 더 긴 걸 기준으로 2등분 \n",
    "    long = max(col, row)\n",
    "    short= min(col, row)\n",
    "    \n",
    "    # 길이가 2의 배수가 아닌 경우 고려 \n",
    "    long_div1 = long//2 + long%2 # 나눠서 긴쪽\n",
    "    long_div2 = long//2 #나눠서 짧은쪽\n",
    "    \n",
    "    # return 값으로는 나눈 횟수를 돌려 줌\n",
    "    return 1 + div_counter(long_div1, short) + div_counter(long_div2, short)\n",
    "\n",
    "ans = div_counter(col, row)\n",
    "\n",
    "print(ans)"
   ]
  }
 ],
 "metadata": {
  "kernelspec": {
   "display_name": "Python 3 (ipykernel)",
   "language": "python",
   "name": "python3"
  },
  "language_info": {
   "codemirror_mode": {
    "name": "ipython",
    "version": 3
   },
   "file_extension": ".py",
   "mimetype": "text/x-python",
   "name": "python",
   "nbconvert_exporter": "python",
   "pygments_lexer": "ipython3",
   "version": "3.8.5"
  }
 },
 "nbformat": 4,
 "nbformat_minor": 5
}
