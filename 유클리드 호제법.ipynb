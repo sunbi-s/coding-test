{
 "cells": [
  {
   "cell_type": "code",
   "execution_count": 1,
   "id": "99206c80",
   "metadata": {},
   "outputs": [],
   "source": [
    "#최대 공약수를 구하는 방법 \n",
    "# math 쓰기\n",
    "import math"
   ]
  },
  {
   "cell_type": "code",
   "execution_count": 3,
   "id": "27ec1e36",
   "metadata": {
    "collapsed": true
   },
   "outputs": [
    {
     "ename": "AttributeError",
     "evalue": "module 'math' has no attribute 'Icm'",
     "output_type": "error",
     "traceback": [
      "\u001b[1;31m---------------------------------------------------------------------------\u001b[0m",
      "\u001b[1;31mAttributeError\u001b[0m                            Traceback (most recent call last)",
      "\u001b[1;32m<ipython-input-3-902eff28d580>\u001b[0m in \u001b[0;36m<module>\u001b[1;34m\u001b[0m\n\u001b[1;32m----> 1\u001b[1;33m \u001b[0mmath\u001b[0m\u001b[1;33m.\u001b[0m\u001b[0mIcm\u001b[0m\u001b[1;33m(\u001b[0m\u001b[1;36m10\u001b[0m\u001b[1;33m,\u001b[0m\u001b[1;36m15\u001b[0m\u001b[1;33m)\u001b[0m\u001b[1;33m\u001b[0m\u001b[1;33m\u001b[0m\u001b[0m\n\u001b[0m",
      "\u001b[1;31mAttributeError\u001b[0m: module 'math' has no attribute 'Icm'"
     ]
    }
   ],
   "source": [
    "math.gcd(20,10) # 10,  Greatest Common Divisor\n",
    "math.lcm(20,45) #least common multiple 파이썬 3.9부터 됨 3.9를 지원하지 않는 코테도 있으니 안쓰는게 좋을듯 "
   ]
  },
  {
   "cell_type": "code",
   "execution_count": 7,
   "id": "7d168a09",
   "metadata": {},
   "outputs": [],
   "source": [
    "#유클리드 호제법 사용\n",
    "# a >= b 이면 A를 B로 나눈 나머지 r과 b의 최대공약수는 a와 b의 최대 공약수와 같다.\n",
    "#증명은 귀납법으로 가능함, 위키참조 \n",
    "def gcd(a,b):\n",
    "    if(b>a) : a,b = b,a # 작은쪽으로 나눠줘야함\n",
    "    while(b!=0): #나머지가 없는 경우에 종료\n",
    "        a = a%b # 나머지 r의 큰쪽의 수에 대입\n",
    "        a,b=b,a # 나머지로 다시 나누기위해서 순서 변경\n",
    "    return a    "
   ]
  },
  {
   "cell_type": "code",
   "execution_count": 8,
   "id": "a6388d13",
   "metadata": {},
   "outputs": [
    {
     "data": {
      "text/plain": [
       "10"
      ]
     },
     "execution_count": 8,
     "metadata": {},
     "output_type": "execute_result"
    }
   ],
   "source": [
    "gcd(20,10)"
   ]
  },
  {
   "cell_type": "code",
   "execution_count": null,
   "id": "31545a94",
   "metadata": {},
   "outputs": [],
   "source": []
  }
 ],
 "metadata": {
  "kernelspec": {
   "display_name": "Python 3",
   "language": "python",
   "name": "python3"
  },
  "language_info": {
   "codemirror_mode": {
    "name": "ipython",
    "version": 3
   },
   "file_extension": ".py",
   "mimetype": "text/x-python",
   "name": "python",
   "nbconvert_exporter": "python",
   "pygments_lexer": "ipython3",
   "version": "3.8.8"
  }
 },
 "nbformat": 4,
 "nbformat_minor": 5
}
