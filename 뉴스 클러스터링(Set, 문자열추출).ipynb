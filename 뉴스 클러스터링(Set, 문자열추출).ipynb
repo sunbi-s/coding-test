{
 "cells": [
  {
   "cell_type": "code",
   "execution_count": null,
   "id": "d58659a4",
   "metadata": {},
   "outputs": [],
   "source": [
    "'''\n",
    "**********정규식은 추가로 좀더 공부하자!***********\n",
    "\n",
    "문자열 추출 부분이 가장 큰 문제다.\n",
    "억지로하자면 알파뱃 다적고 in 써서 하면된다만...\n",
    "정규식이랑 is계통의 함수에 좀더 익숙해 지는 편이 좋아보인다.\n",
    "isalpha() 문자, isdigit() 숫자, isalnum() 문자 + 숫자\n",
    "\n",
    "대문자 -> 소문자 , 소문자 -> 대문자\n",
    "upper() 와 lower()도 문제다. 매번 까먹는다. 코테는 오픈북이 아니니까 외워두자\n",
    "\n",
    "교집합은 Set을 쓰면 깔끔하게 된다. 시간효율도 이게 좋아보인다.\n",
    "교집합 s1 & s2 , 합집합 s1 | s2 \n",
    "중복되는건 강제로 넣는 수 밖에없다. 딱히 함수로는 없는듯?\n",
    "'''\n",
    "def refine(str1):\n",
    "    # 모두 대문자\n",
    "    str1 = str1.upper()\n",
    "    #쌍 생성 및 문자열 외 버림\n",
    "    arr = []\n",
    "    for i in range(len(str1)-1):\n",
    "        temp = str1[i:i+2]\n",
    "        if temp.isalpha(): \n",
    "            arr.append(temp)\n",
    "    return arr\n",
    "\n",
    "def solution(str1, str2):\n",
    "    answer = 0\n",
    "    arr1 = refine(str1)\n",
    "    arr2 = refine(str2)    \n",
    "    # 둘다 공집합\n",
    "    if arr1 == [] and arr2 == []:\n",
    "        return 1*65536\n",
    "    \n",
    "    # 합집합 개수 = arr1+arr2 - 교집합 갯수\n",
    "    #교집합만 구하면됨\n",
    "    gyo = set(arr1) & set(arr2)\n",
    "    A = []\n",
    "    for i in gyo:\n",
    "        for _ in range( min(arr1.count(i), arr2.count(i) )):\n",
    "            A.append(i)\n",
    "    answer = int(len(A)/(len(arr1)+len(arr2)-len(A))*65536)\n",
    "    return answer"
   ]
  }
 ],
 "metadata": {
  "kernelspec": {
   "display_name": "Python 3",
   "language": "python",
   "name": "python3"
  },
  "language_info": {
   "codemirror_mode": {
    "name": "ipython",
    "version": 3
   },
   "file_extension": ".py",
   "mimetype": "text/x-python",
   "name": "python",
   "nbconvert_exporter": "python",
   "pygments_lexer": "ipython3",
   "version": "3.8.8"
  }
 },
 "nbformat": 4,
 "nbformat_minor": 5
}
