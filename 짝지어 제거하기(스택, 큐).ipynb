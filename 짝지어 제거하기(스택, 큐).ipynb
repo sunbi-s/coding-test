{
 "cells": [
  {
   "cell_type": "code",
   "execution_count": null,
   "id": "4e261c0f",
   "metadata": {},
   "outputs": [],
   "source": [
    "'''\n",
    "list를 스택처럼 쓰는거에 좀 익숙해졌다.\n",
    "문자열은 slice는 먹는데 pop은 안먹는다.\n",
    "\n",
    "스택, 큐와 while을 같이 좀 익숙해졌다.\n",
    "for문 보다 훨씬 직관적이고 이쁘다.\n",
    "\n",
    "문자열이 pop이 먹는줄알고 스택으로 짠건데 어차피 list로 바꿀바에야\n",
    "그냥 deque로 하는게 나아보인다.\n",
    "'''\n",
    "def solution(s):\n",
    "    answer = 0\n",
    "    s = list(s)\n",
    "    stack = []\n",
    "\n",
    "    while s:   \n",
    "        item = s.pop()\n",
    "        if not stack:\n",
    "            stack.append(item)\n",
    "        else:\n",
    "            if stack[-1] == item:\n",
    "                stack.pop()\n",
    "            else:\n",
    "                stack.append(item)\n",
    "\n",
    "    if not stack:\n",
    "        answer = 1\n",
    "\n",
    "    return answer"
   ]
  }
 ],
 "metadata": {
  "kernelspec": {
   "display_name": "Python 3",
   "language": "python",
   "name": "python3"
  },
  "language_info": {
   "codemirror_mode": {
    "name": "ipython",
    "version": 3
   },
   "file_extension": ".py",
   "mimetype": "text/x-python",
   "name": "python",
   "nbconvert_exporter": "python",
   "pygments_lexer": "ipython3",
   "version": "3.8.8"
  }
 },
 "nbformat": 4,
 "nbformat_minor": 5
}
