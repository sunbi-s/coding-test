{
 "cells": [
  {
   "cell_type": "code",
   "execution_count": null,
   "id": "656edbf1",
   "metadata": {},
   "outputs": [],
   "source": [
    "import datetime as dt"
   ]
  },
  {
   "cell_type": "code",
   "execution_count": null,
   "id": "c1ba657e",
   "metadata": {},
   "outputs": [],
   "source": [
    "#datetime..datetime 선언엔 반드시 년,월, 일이 필수\n",
    "#datetime.time 은 - 연산자를 지원하지 않음\n",
    "dt1 = dt.datetime(1995,6,5,13,42,34,45)\n",
    "dt2 = dt.datetime(1995,6,5,12,24,54)\n",
    "\n",
    "#datetime -> str \n",
    "dateformat = '%Y-%m-%d %H:%M:%S.%f' #순서대로 년, 월, 일, 시간, 분, 초, 밀리초 \n",
    "str_dt1 = dt1.strftime(dateformat) #반드시 포맷 필요\n",
    "print(str_dt1) #(1995-06-05 13:42:34.000000)\n",
    "\n",
    "#str -> datetime\n",
    "datetime_convert = dt.datetime.strptime(str_dt1,dateformat) #(str값, 포맷)\n",
    "print(datetime_convert) #(1995-06-05 13:42:34.000045) *주의 밀리초가 00000의 경우 생략되서 밀리초가 안나옴"
   ]
  },
  {
   "cell_type": "code",
   "execution_count": null,
   "id": "931a8909",
   "metadata": {},
   "outputs": [],
   "source": [
    "\n",
    "# - 연산 지원 type은 timedelta로 나옴\n",
    "subtract_datetime = dt2 - dt1\n",
    "print(subtract_datetime) #(-1 day, 22:42:20)\n",
    "\n",
    "#timedelta를 인자값을 통해 직접 선언 가능\n",
    "datetime.timedelta(weeks=1,days=1,hours=1,minutes=1,seconds=1,milliseconds=1,microseconds=1)\n",
    "\n",
    "#timedelta 는 datatime에 + - 연산을 지원\n",
    "dt1 + subtract_datetime # datetime.datetime(1995, 6, 5, 12, 24, 54)\n",
    "dt1 - subtract_datetime # datetime.datetime(1995, 6, 5, 15, 0, 14, 90)\n",
    "\n"
   ]
  },
  {
   "cell_type": "code",
   "execution_count": null,
   "id": "f9376df4",
   "metadata": {},
   "outputs": [],
   "source": [
    "#time deta 는 total_seconds()를 통해 초(밀리초 포함)단위로 변경 가능\n",
    "subtract_datetime.total_seconds() #float 타입 -4660.000045"
   ]
  }
 ],
 "metadata": {
  "kernelspec": {
   "display_name": "Python 3",
   "language": "python",
   "name": "python3"
  },
  "language_info": {
   "codemirror_mode": {
    "name": "ipython",
    "version": 3
   },
   "file_extension": ".py",
   "mimetype": "text/x-python",
   "name": "python",
   "nbconvert_exporter": "python",
   "pygments_lexer": "ipython3",
   "version": "3.8.8"
  }
 },
 "nbformat": 4,
 "nbformat_minor": 5
}
