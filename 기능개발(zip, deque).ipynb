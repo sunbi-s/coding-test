{
 "cells": [
  {
   "cell_type": "code",
   "execution_count": null,
   "id": "57c6c38d",
   "metadata": {},
   "outputs": [],
   "source": [
    "# zip, deque while 에 익숙해 지자 딱히 어려운건 없었다.\n",
    "# zip 과 for문의 사용법에 주의할것\n",
    "\n",
    "from collections import deque\n",
    "def solution(ps, sp):\n",
    "    days = []\n",
    "    for p,s in zip(ps, sp):\n",
    "        day = (100-p)//s + ((100-p)%s != 0)\n",
    "        days.append(day)\n",
    "    \n",
    "    days =  deque(days)   \n",
    "    count = 1\n",
    "    answer = []\n",
    "    while days:\n",
    "            new = days.popleft()\n",
    "            while  days and new >= days[0]:\n",
    "                days.popleft()\n",
    "                count += 1\n",
    "            answer.append(count)\n",
    "            count = 1\n",
    "    \n",
    "    return answer"
   ]
  }
 ],
 "metadata": {
  "kernelspec": {
   "display_name": "Python 3",
   "language": "python",
   "name": "python3"
  },
  "language_info": {
   "codemirror_mode": {
    "name": "ipython",
    "version": 3
   },
   "file_extension": ".py",
   "mimetype": "text/x-python",
   "name": "python",
   "nbconvert_exporter": "python",
   "pygments_lexer": "ipython3",
   "version": "3.8.8"
  }
 },
 "nbformat": 4,
 "nbformat_minor": 5
}
