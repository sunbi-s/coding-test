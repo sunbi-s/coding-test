{
 "cells": [
  {
   "cell_type": "code",
   "execution_count": 1,
   "id": "57d96af0",
   "metadata": {},
   "outputs": [],
   "source": [
    "# from math import gcd 로 풀어도됨\n",
    "def gcd(a,b):\n",
    "    if b > a:\n",
    "        a, b = b, a \n",
    "    while b != 0:\n",
    "        a = a % b\n",
    "        a, b = b, a\n",
    "    return a\n",
    "\n",
    "def solution(w,h):\n",
    "    blank = w+h-gcd(w,h)\n",
    "    answer = w*h -blank\n",
    "\n",
    "    return answer"
   ]
  },
  {
   "cell_type": "code",
   "execution_count": null,
   "id": "771cd502",
   "metadata": {},
   "outputs": [],
   "source": [
    "'''\n",
    "H >= w 인 경우\n",
    "높이가 h 너비가 1 인 직사각형에서 부터 출발한다.\n",
    "대각선이 지나는 직사각형의 갯수는 h개이다.\n",
    "너비를 2로 늘리면 대각선이 x좌표가 1인 지점을 지나게 되고 이때 선택지는 2가지이다.\n",
    "1. 정수인 부분(꼭지점)을 지난다.\n",
    "2. 정수가 아닌 부분을 지난다.\n",
    "\n",
    "1의 경우에는 x좌표가 1인 선분을 대각선이 지나는 과정에서 아무 일이 발생하지않는다.\n",
    "2의 경우에는 동일 높이 구간에서 대각선이 2개의 정사각형을 지난다.\n",
    "\n",
    "2의 경우에는 기존보다 1개 추가된 정사각형을 지나게 된다.\n",
    "\n",
    "결론적으로 (높이+너비 -1) -(지나는 꼭지점의 갯수) 이며 \n",
    "지나는 꼭지점의 갯수 = 높이와 너비의 최대 공약수 -1 이다.\n",
    "\n",
    "정확한 수학적인 증명은 찾지 못했다.\n",
    "'''"
   ]
  }
 ],
 "metadata": {
  "kernelspec": {
   "display_name": "Python 3",
   "language": "python",
   "name": "python3"
  },
  "language_info": {
   "codemirror_mode": {
    "name": "ipython",
    "version": 3
   },
   "file_extension": ".py",
   "mimetype": "text/x-python",
   "name": "python",
   "nbconvert_exporter": "python",
   "pygments_lexer": "ipython3",
   "version": "3.8.8"
  }
 },
 "nbformat": 4,
 "nbformat_minor": 5
}
