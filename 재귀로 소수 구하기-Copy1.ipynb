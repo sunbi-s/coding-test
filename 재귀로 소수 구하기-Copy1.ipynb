{
 "cells": [
  {
   "cell_type": "code",
   "execution_count": 59,
   "id": "1a03e3ef",
   "metadata": {},
   "outputs": [],
   "source": [
    "def prime_list(size):\n",
    "    if size <= 2: return [2]\n",
    "    \n",
    "    p_list = prime_list(int(size**(1/2)))\n",
    "    p_copy = p_list.copy()\n",
    "    \n",
    "    for num in range(int(size**(1/2))+1,size+1):\n",
    "        \n",
    "        prime_ck = True\n",
    "        \n",
    "        for prime in p_list:\n",
    "            if num % prime == 0:\n",
    "                prime_ck = False                \n",
    "                break\n",
    "        \n",
    "        if prime_ck == True:\n",
    "            p_copy.append(num)\n",
    "        \n",
    "    return p_copy"
   ]
  },
  {
   "cell_type": "code",
   "execution_count": null,
   "id": "ac972e1b",
   "metadata": {},
   "outputs": [],
   "source": []
  }
 ],
 "metadata": {
  "kernelspec": {
   "display_name": "Python 3",
   "language": "python",
   "name": "python3"
  },
  "language_info": {
   "codemirror_mode": {
    "name": "ipython",
    "version": 3
   },
   "file_extension": ".py",
   "mimetype": "text/x-python",
   "name": "python",
   "nbconvert_exporter": "python",
   "pygments_lexer": "ipython3",
   "version": "3.8.8"
  }
 },
 "nbformat": 4,
 "nbformat_minor": 5
}
