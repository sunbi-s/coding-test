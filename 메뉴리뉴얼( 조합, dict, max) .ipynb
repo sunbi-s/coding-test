{
 "cells": [
  {
   "cell_type": "code",
   "execution_count": null,
   "id": "e9228654",
   "metadata": {},
   "outputs": [],
   "source": [
    "'''\n",
    "난이도에 비해 오픈북까지 해가면서 뒤지게 오래걸렸다.\n",
    "\n",
    "문제 1: dict 사용법이 익숙하지 않아서 keys() ,values() items()의 용법을 정확히 모름\n",
    "        3개다 iterater 형태로 뱉기 때문에 list로 감싸줘야 for 문에 사용가능\n",
    "문제 2: combinations에 string이 들어가는지 몰랐음,\n",
    "        iterable 형태면 모두 가능\n",
    "문제 3: syntex error를 못찾음\n",
    "        괄호 뺴먹어서 에러를 못찾았다. 괄호와 연관된 에러는 이상한곳을 짚어줌\n",
    "        너무 디버깅이 짚어 주는 곳에 의존하지 말것.\n",
    "        ***********프로그래머스는 괄호가 미리있으면 괄호를 안쓰고 옆으로 한칸 넘어가버림********************************\n",
    "        ***********버그의 원횽 그 자체임********************************************************************************        \n",
    "문제4: 결과값을 빈도순으로 정리해야하는줄 알고 코드 복잡하게 짰다가 지움\n",
    "        상당히 여러번 이러는데 문제를 좀 주의깊게 읽어야 될듯..\n",
    "'''\n",
    "'''\n",
    "combinations 안쓰고도 구현가능하게 다시 연습할것  \n",
    "그래도 구현한거보다 라이브러리가 100배는 빠르기 때문에 쓰는건 라이브러리로.\n",
    "max() min()같은 기본함수에 좀 익숙해 지자.\n",
    "'''\n",
    "from itertools import combinations\n",
    "\n",
    "def solution(orders, course):\n",
    "    answer = []\n",
    "    for num in course:\n",
    "\n",
    "        rec_dict = {} # 문자열 조합 모음        \n",
    "        for order in orders:\n",
    "            order = sorted(order)\n",
    "            order_c = list(combinations(order,num))\n",
    "            for item in order_c:\n",
    "                temp = ''.join(item)\n",
    "                if temp in list(rec_dict.keys()):\n",
    "                    rec_dict[temp] += 1\n",
    "                else:\n",
    "                    rec_dict[temp] = 1\n",
    "        # 가장 수가 많은 조합 찾기\n",
    "        if rec_dict:\n",
    "            max_pick = max(list(rec_dict.values())) # 이거 좀 자주쓰자.\n",
    "            if not max_pick == 1:\n",
    "                for k,v in list(rec_dict.items()):\n",
    "                    if v == max_pick:\n",
    "                        answer.append(k)\n",
    "    answer.sort()\n",
    "    return answer"
   ]
  }
 ],
 "metadata": {
  "kernelspec": {
   "display_name": "Python 3",
   "language": "python",
   "name": "python3"
  },
  "language_info": {
   "codemirror_mode": {
    "name": "ipython",
    "version": 3
   },
   "file_extension": ".py",
   "mimetype": "text/x-python",
   "name": "python",
   "nbconvert_exporter": "python",
   "pygments_lexer": "ipython3",
   "version": "3.8.8"
  }
 },
 "nbformat": 4,
 "nbformat_minor": 5
}
