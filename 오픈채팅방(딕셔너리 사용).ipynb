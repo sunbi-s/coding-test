{
 "cells": [
  {
   "cell_type": "code",
   "execution_count": null,
   "id": "b0b866a1",
   "metadata": {},
   "outputs": [],
   "source": [
    "#dict를 최대한 활용해서 풀이\n",
    "# dict는 정해진 입력에 반응하기에 가장 좋은 타입\n",
    "def solution(record):\n",
    "    name = {}\n",
    "    answer = []\n",
    "    printer = {'Enter':'님이 들어왔습니다.', 'Leave':'님이 나갔습니다.'}\n",
    "    \n",
    "    for r in record:\n",
    "        temp = r.split()\n",
    "        if temp[0] != 'Leave':\n",
    "            name[temp[1]] = temp[2]    \n",
    "        \n",
    "    for r in record:\n",
    "        temp = r.split()\n",
    "        if temp[0] in printer.keys(): #dict를 만들었으면 keys()로 불러와서 활용\n",
    "            answer.append(name[temp[1]]+printer[temp[0]])\n",
    "        \n",
    "    return answer"
   ]
  }
 ],
 "metadata": {
  "kernelspec": {
   "display_name": "Python 3",
   "language": "python",
   "name": "python3"
  },
  "language_info": {
   "codemirror_mode": {
    "name": "ipython",
    "version": 3
   },
   "file_extension": ".py",
   "mimetype": "text/x-python",
   "name": "python",
   "nbconvert_exporter": "python",
   "pygments_lexer": "ipython3",
   "version": "3.8.8"
  }
 },
 "nbformat": 4,
 "nbformat_minor": 5
}
