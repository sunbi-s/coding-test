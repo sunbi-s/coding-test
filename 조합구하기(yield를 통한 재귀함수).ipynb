{
 "cells": [
  {
   "cell_type": "code",
   "execution_count": null,
   "id": "13fc8568",
   "metadata": {},
   "outputs": [],
   "source": [
    " def combinations(arr,r):\n",
    "        for i in range(len(arr)):  \n",
    "            if r == 1:  # 종료조건\n",
    "                yield [arr[i]] #배열추가 한번 반환하고 다시 계속 진행\n",
    "            else:\n",
    "                for next in combinations(arr[i+1:],r-1): #재귀적으로 함수로 다시들어감 \n",
    "                    yield [arr[i]] + next #이부분은 재귀가 끝나고 발생하는 부분\n",
    "                    \n",
    "# yield 는 return과 동일하다 다만 return 과 달리 코드가 끊기지 않고 진행한다.\n",
    "# 특정 시점에서 외부로 송출하고 코드를 그대로 진행시킨다고 생각하면 편하다.\n",
    "# 외부 송출과 내부에서 코드의 진행은 별개의 일로 생각해야한다.\n",
    "\n",
    "# return을 통한 재귀는 반환값이 1개라 대입을 통해 재귀를 하지만\n",
    "# yield를 통한 재귀는 반환값이 여러개다. 필연적으로 for 문을 통한 재귀가 강제된다.\n",
    "#next()를 사용하면 while도 가능할듯 하나 굳이...?"
   ]
  }
 ],
 "metadata": {
  "kernelspec": {
   "display_name": "Python 3",
   "language": "python",
   "name": "python3"
  },
  "language_info": {
   "codemirror_mode": {
    "name": "ipython",
    "version": 3
   },
   "file_extension": ".py",
   "mimetype": "text/x-python",
   "name": "python",
   "nbconvert_exporter": "python",
   "pygments_lexer": "ipython3",
   "version": "3.8.8"
  }
 },
 "nbformat": 4,
 "nbformat_minor": 5
}
