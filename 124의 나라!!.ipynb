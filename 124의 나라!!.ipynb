{
 "cells": [
  {
   "cell_type": "code",
   "execution_count": 1,
   "id": "68d8d568",
   "metadata": {},
   "outputs": [],
   "source": [
    "def solution(n):\n",
    "    numbers = ['4', '1', '2']\n",
    "    answer = ''\n",
    "    while n:\n",
    "        answer = numbers[n % 3] + answer\n",
    "        n = n // 3 - (n % 3 == 0)\n",
    "    return answer"
   ]
  },
  {
   "cell_type": "code",
   "execution_count": null,
   "id": "9fe2f3c2",
   "metadata": {},
   "outputs": [],
   "source": [
    "#논지는 이해했는데 일반화가 이해가 안된다.\n",
    "# 3진법인건 맞다. 0이 없는 것도 맞다.\n",
    "# 3진법인데 1자리에 3까지 표기가된다. 몫을 낮춰서 1개씩 미루면된다.\n",
    "#수학적으로 이해가 잘안된다 나중에 다시보자"
   ]
  }
 ],
 "metadata": {
  "kernelspec": {
   "display_name": "Python 3",
   "language": "python",
   "name": "python3"
  },
  "language_info": {
   "codemirror_mode": {
    "name": "ipython",
    "version": 3
   },
   "file_extension": ".py",
   "mimetype": "text/x-python",
   "name": "python",
   "nbconvert_exporter": "python",
   "pygments_lexer": "ipython3",
   "version": "3.8.8"
  }
 },
 "nbformat": 4,
 "nbformat_minor": 5
}
