{
 "cells": [
  {
   "cell_type": "code",
   "execution_count": null,
   "id": "8c702598",
   "metadata": {},
   "outputs": [],
   "source": [
    "'''\n",
    "*******************틀린 풀이*******************\n",
    "그리드 서치(최단거리 이동)으로 풀었으나 틀렸다.\n",
    "최단거리 이동으로 하면 다음 방향성에 문제가 생긴다...(테스트케이스 9개나 맞은게 기적이다.) \n",
    "다음이동까지 고려한다고 치면 결국 모든 이동을 다 따져보고 제일 낮은 걸로 해야함..\n",
    "조금만 더 생각해보고 다시 풀어보자\n",
    "'''\n",
    "def solution(name):\n",
    "    alp ={'A':0, 'B':1, 'C':2, 'D':3, 'E':4, 'F':5, 'G':6, 'H':7, 'I':8, 'J':9, 'K':10, 'L':11, 'M':12, 'N':13, \n",
    "          'O':12, 'P':11, 'Q':10, 'R':9, 'S':8, 'T':7, 'U':6, 'V':5, 'W':4, 'X':3, 'Y':2, 'Z':1}\n",
    "    answer = 0\n",
    "    n_len =len(name)\n",
    "    p =[0 for _ in range(n_len)]\n",
    "    \n",
    "    #알파벳 변경횟수\n",
    "    for i in range(n_len):\n",
    "        s = name[i]\n",
    "        answer += alp[s]\n",
    "        if not s == 'A':\n",
    "            p[i] = 1\n",
    "    \n",
    "    #이동 횟수\n",
    "    start = 0\n",
    "    r_len = []\n",
    "    l_len = []\n",
    "    while 1 in p:\n",
    "        #정방향\n",
    "        for i in range(0,n_len):\n",
    "            j = (i+start) % n_len\n",
    "            if p[j] == 1:\n",
    "                r_len = [j,i]\n",
    "                break\n",
    "        #역방향\n",
    "        for i in range(0,n_len):\n",
    "            j = (n_len+start-i) % n_len\n",
    "            if p[j] == 1:\n",
    "                l_len = [j,i]\n",
    "                break\n",
    "        # 비교, answer 더하기, 표기\n",
    "        if l_len[1] <= r_len[1]:\n",
    "            answer += l_len[1]\n",
    "            start = l_len[0]\n",
    "            p[start] = 0\n",
    "        else:\n",
    "            answer += r_len[1]\n",
    "            start = r_len[0]\n",
    "            p[start] = 0\n",
    "    \n",
    "    return answer"
   ]
  }
 ],
 "metadata": {
  "kernelspec": {
   "display_name": "Python 3",
   "language": "python",
   "name": "python3"
  },
  "language_info": {
   "codemirror_mode": {
    "name": "ipython",
    "version": 3
   },
   "file_extension": ".py",
   "mimetype": "text/x-python",
   "name": "python",
   "nbconvert_exporter": "python",
   "pygments_lexer": "ipython3",
   "version": "3.8.8"
  }
 },
 "nbformat": 4,
 "nbformat_minor": 5
}
