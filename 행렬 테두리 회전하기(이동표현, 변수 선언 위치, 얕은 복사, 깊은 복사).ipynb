{
 "cells": [
  {
   "cell_type": "code",
   "execution_count": null,
   "id": "44aa1f6c",
   "metadata": {},
   "outputs": [],
   "source": [
    "'''\n",
    "처음에는 편의성을 위해 복사해서 이동시켰으나 \n",
    "복사가 너무 오래걸려서 시간제한에 걸림\n",
    "\n",
    "2중 배열의 경우 얕은 복사로 해면 내부 배열이 참조값만 전달됨\n",
    "copy.deepcopy()를 하여 깊은 복사로 복사해야됨.\n",
    "\n",
    "시간제한으로 인해 임시변수를 선언하여 복사없이 작업하기로함\n",
    "'''\n",
    "def solution(rows, columns, queries):\n",
    "    answer = []\n",
    "    box = [ [0 for _ in range(columns)] for _ in range(rows)]\n",
    "    for i in range(rows):\n",
    "        for j in range(columns):\n",
    "            box[i][j] = (i)*columns + j+1\n",
    "    move_x = (0,1,0,-1) #이동을 이런식으로 묶어서 표현하는걸 익숙해 져야함\n",
    "    move_y = (1,0,-1,0) # 아래의 연속적인 for문 표현을 하는데 핵심 포인트임\n",
    "\n",
    "    for (x1,y1,x2,y2) in queries :\n",
    "        min_num = rows*columns\n",
    "        nx = x1 - 1\n",
    "        ny = y1 - 1\n",
    "        move_count = (y2-y1, x2-x1,y2-y1,x2-x1)\n",
    "        temp1 = box[nx][ny] # for문 외부에 선언해서 temp2와 다르게 연속성을 가짐 \n",
    "        \n",
    "        '''\n",
    "        핵심 코드\n",
    "        이동을 범용적으로 표현하여 4개의 서로다른 이동을 1개의 코드로 합침\n",
    "        \n",
    "        초기에는 for문으로 순환하여 작성하였으나, \n",
    "        그럴경우 코드도 길어지고 연속적으로 표현이 안됨\n",
    "        \n",
    "        for문으로 순환하는것과 이동을 사용하는 것을 나눠서 생각할 것\n",
    "        '''\n",
    "        for i in range(4):\n",
    "            for _ in range(move_count[i]):\n",
    "                nx += move_x[i] #핵심 아이디어 \n",
    "                ny += move_y[i] # 서로 다른 이동을 하나의 코드로 표현 가능하게함\n",
    "                temp2 = box[nx][ny] \n",
    "                box[nx][ny] = temp1\n",
    "                temp1 = temp2 # 불연속적인 변수를 외부의 연속적인 변수에 이동시킴\n",
    "                min_num = min(min_num, temp1)\n",
    "        \n",
    "        answer.append(min_num)\n",
    "        \n",
    "    return answer"
   ]
  }
 ],
 "metadata": {
  "kernelspec": {
   "display_name": "Python 3",
   "language": "python",
   "name": "python3"
  },
  "language_info": {
   "codemirror_mode": {
    "name": "ipython",
    "version": 3
   },
   "file_extension": ".py",
   "mimetype": "text/x-python",
   "name": "python",
   "nbconvert_exporter": "python",
   "pygments_lexer": "ipython3",
   "version": "3.8.8"
  }
 },
 "nbformat": 4,
 "nbformat_minor": 5
}
