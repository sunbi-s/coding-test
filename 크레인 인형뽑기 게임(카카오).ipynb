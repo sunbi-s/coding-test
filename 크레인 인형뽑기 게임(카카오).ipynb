{
 "cells": [
  {
   "cell_type": "code",
   "execution_count": 6,
   "id": "f1ff3f1d",
   "metadata": {},
   "outputs": [],
   "source": [
    "import numpy as np\n",
    "\n",
    "def solution(board, moves):\n",
    "    answer = 0\n",
    "    basket = []\n",
    "    np_board = np.array(board).T\n",
    "    board_T = np_board.tolist()\n",
    "\n",
    "    # numpy를 쓰면 2차원 배열을 깔끔하게 행렬을 뒤집을 수 있다.\n",
    "    for i in range(len(board_T)):\n",
    "        board_T[i] = list(filter(lambda x: x!= 0, board_T[i]))\n",
    "\n",
    "#빈 배열은 False를 반환한다 중요하다. 배열의 길이를 검사하는 거보다 훨씬 직관적이다.\n",
    "#pop()는 맨뒤를 반환하고 제거한다. list가 비면 에러가 뜨니까 항상 검사하자.\n",
    "    for m in moves:\n",
    "        if board_T[m-1]: \n",
    "            item = board_T[m-1].pop(0)\n",
    "            if basket:\n",
    "                if basket[-1] == item:\n",
    "                    del basket[-1]\n",
    "                    answer += 2\n",
    "                else:\n",
    "                    basket.append(item) \n",
    "            else:\n",
    "                basket.append(item)\n",
    "\n",
    "    return answer"
   ]
  },
  {
   "cell_type": "code",
   "execution_count": 7,
   "id": "49a0c43b",
   "metadata": {},
   "outputs": [
    {
     "data": {
      "text/plain": [
       "4"
      ]
     },
     "execution_count": 7,
     "metadata": {},
     "output_type": "execute_result"
    }
   ],
   "source": [
    "board = [[0,0,0,0,0],[0,0,1,0,3],[0,2,5,0,1],[4,2,4,4,2],[3,5,1,3,1]]\n",
    "moves = [1,5,3,5,1,2,1,4]\n",
    "solution(board, moves)"
   ]
  }
 ],
 "metadata": {
  "kernelspec": {
   "display_name": "Python 3",
   "language": "python",
   "name": "python3"
  },
  "language_info": {
   "codemirror_mode": {
    "name": "ipython",
    "version": 3
   },
   "file_extension": ".py",
   "mimetype": "text/x-python",
   "name": "python",
   "nbconvert_exporter": "python",
   "pygments_lexer": "ipython3",
   "version": "3.8.8"
  }
 },
 "nbformat": 4,
 "nbformat_minor": 5
}
